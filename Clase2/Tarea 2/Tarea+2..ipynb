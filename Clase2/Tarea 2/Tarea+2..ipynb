{
 "cells": [
  {
   "cell_type": "markdown",
   "metadata": {},
   "source": [
    "# Tarea 2\n",
    "## Completar la tarea \"0\" de la case de R correspondiente."
   ]
  },
  {
   "cell_type": "markdown",
   "metadata": {},
   "source": [
    "\n",
    "USER@PAOLA MINGW64 ~/Desktop\n",
    "$ echo hello world\n",
    "hello world\n",
    "\n",
    "USER@PAOLA MINGW64 ~/Desktop\n",
    "$ date\n",
    "ju., 16 de nov. de 2017  0:43:37\n",
    "\n",
    "USER@PAOLA MINGW64 ~/Desktop\n",
    "$ hostaname\n",
    "bash: hostaname: command not found\n",
    "\n",
    "USER@PAOLA MINGW64 ~/Desktop\n",
    "$ hostname\n",
    "PAOLA\n",
    "\n",
    "USER@PAOLA MINGW64 ~/Desktop\n",
    "$ arch\n",
    "x86_64\n",
    "\n",
    "USER@PAOLA MINGW64 ~/Desktop\n",
    "$ uname -a\n",
    "MINGW64_NT-6.3 PAOLA 2.8.2(0.313/5/3) 2017-07-12 15:35 x86_64 Msys\n",
    "\n",
    "USER@PAOLA MINGW64 ~/Desktop\n",
    "$ dmesg | more\n",
    "bash: dmesg: command not found\n",
    "bash: more: command not found\n",
    "\n",
    "USER@PAOLA MINGW64 ~/Desktop\n",
    "$ dmesg | more\n",
    "bash: dmesg: command not found\n",
    "bash: more: command not found\n",
    "\n",
    "USER@PAOLA MINGW64 ~/Desktop\n",
    "$ uptime\n",
    "bash: uptime: command not found\n",
    "\n",
    "USER@PAOLA MINGW64 ~/Desktop\n",
    "$ who am i\n",
    "\n",
    "USER@PAOLA MINGW64 ~/Desktop\n",
    "$ who\n",
    "\n",
    "USER@PAOLA MINGW64 ~/Desktop\n",
    "$ id\n",
    "uid=197609(USER) gid=197121 groups=197121\n",
    "\n",
    "USER@PAOLA MINGW64 ~/Desktop\n",
    "$ last\n",
    "bash: last: command not found\n",
    "\n",
    "USER@PAOLA MINGW64 ~/Desktop\n",
    "$ finger\n",
    "bash: finger: command not found\n",
    "\n",
    "USER@PAOLA MINGW64 ~/Desktop\n",
    "$ w\n",
    "bash: w: command not found\n",
    "\n",
    "USER@PAOLA MINGW64 ~/Desktop\n",
    "$ top\n",
    "bash: top: command not found\n"
   ]
  },
  {
   "cell_type": "code",
   "execution_count": null,
   "metadata": {
    "collapsed": true
   },
   "outputs": [],
   "source": []
  }
 ],
 "metadata": {
  "kernelspec": {
   "display_name": "Python 3",
   "language": "python",
   "name": "python3"
  },
  "language_info": {
   "codemirror_mode": {
    "name": "ipython",
    "version": 3
   },
   "file_extension": ".py",
   "mimetype": "text/x-python",
   "name": "python",
   "nbconvert_exporter": "python",
   "pygments_lexer": "ipython3",
   "version": "3.6.1"
  }
 },
 "nbformat": 4,
 "nbformat_minor": 2
}
