{
 "cells": [
  {
   "cell_type": "markdown",
   "metadata": {},
   "source": [
    "# Tarea 1\n",
    "# Completa el Completa el tutorial How to Use Command Line. usando el Terminal (Linux/ Mac) o Git Bash (Windows).\n",
    "    1. ¿Qué nombre ves en la ventana de Terminal abierta justo antes de la solicitud? Este es tu nombre de usuario.\n",
    "\n",
    "![imagen](usuario.png)\n",
    "\n",
    "# Mi turno (pag 39)\n",
    "\n",
    "    1. En la ventana de Terminal abierta, indique a su computadora que escriba pwdy luego presione ENTER."
   ]
  },
  {
   "cell_type": "code",
   "execution_count": 4,
   "metadata": {},
   "outputs": [
    {
     "data": {
      "text/plain": [
       "'C:\\\\Users\\\\alex'"
      ]
     },
     "execution_count": 4,
     "metadata": {},
     "output_type": "execute_result"
    }
   ],
   "source": [
    "pwd"
   ]
  },
  {
   "cell_type": "markdown",
   "metadata": {
    "collapsed": true
   },
   "source": [
    "# Mi turno (pag 42)\n",
    "#### 1. En la ventana de Terminal abierta, liste el contenido de su directorio de trabajo."
   ]
  },
  {
   "cell_type": "code",
   "execution_count": 5,
   "metadata": {},
   "outputs": [
    {
     "name": "stdout",
     "output_type": "stream",
     "text": [
      " El volumen de la unidad C no tiene etiqueta.\n",
      " El n£mero de serie del volumen es: 7AEE-A896\n",
      "\n",
      " Directorio de C:\\Users\\alex\n",
      "\n",
      "28/09/2017  22:32    <DIR>          .\n",
      "28/09/2017  22:32    <DIR>          ..\n",
      "20/09/2017  00:32    <DIR>          .anaconda\n",
      "28/09/2017  09:31             4.671 .bash_history\n",
      "28/09/2017  22:41    <DIR>          .conda\n",
      "28/09/2017  21:53                43 .condarc\n",
      "30/01/2017  03:49    <DIR>          .eclipse\n",
      "19/09/2017  23:11               122 .gitconfig\n",
      "21/08/2017  17:36    <DIR>          .idlerc\n",
      "28/09/2017  08:48    <DIR>          .ipynb_checkpoints\n",
      "20/09/2017  01:28    <DIR>          .ipython\n",
      "31/12/2016  01:05    <DIR>          .jmc\n",
      "20/09/2017  01:30    <DIR>          .jupyter\n",
      "24/02/2017  18:23    <DIR>          .p2\n",
      "25/09/2017  17:40                 0 .Rhistory\n",
      "19/09/2017  18:14    <DIR>          .ssh\n",
      "27/06/2017  10:28    <DIR>          Contacts\n",
      "21/08/2017  16:50    <DIR>          Desktop\n",
      "24/09/2017  20:08    <DIR>          Documents\n",
      "28/09/2017  10:43    <DIR>          Downloads\n",
      "27/06/2017  10:28    <DIR>          Favorites\n",
      "27/06/2017  10:28    <DIR>          Links\n",
      "27/06/2017  10:28    <DIR>          Music\n",
      "28/09/2017  22:25    <DIR>          Pictures\n",
      "21/08/2017  16:44                 0 pip\n",
      "16/06/2017  14:29    <DIR>          pseint\n",
      "15/09/2017  11:43    <DIR>          Pythonejemplos\n",
      "15/09/2017  15:17    <DIR>          R\n",
      "27/06/2017  10:28    <DIR>          Saved Games\n",
      "27/06/2017  10:28    <DIR>          Searches\n",
      "28/09/2017  22:32             1.681 Tarea 1..ipynb\n",
      "12/01/2017  20:31    <DIR>          Tracing\n",
      "20/09/2017  02:04            18.375 Untitled.ipynb\n",
      "26/09/2017  21:01            18.184 Untitled1.ipynb\n",
      "27/09/2017  09:58             3.117 Untitled2.ipynb\n",
      "28/09/2017  10:42             3.667 Untitled3.ipynb\n",
      "27/06/2017  10:28    <DIR>          Videos\n",
      "28/09/2017  22:25    <DIR>          World\n",
      "              10 archivos         49.860 bytes\n",
      "              28 dirs  145.211.342.848 bytes libres\n"
     ]
    }
   ],
   "source": [
    "ls"
   ]
  },
  {
   "cell_type": "markdown",
   "metadata": {},
   "source": [
    "# Mi turno (pag 45)\n",
    "#### 1. En la ventana de Terminal abierta, liste el contenido del directorio World."
   ]
  },
  {
   "cell_type": "code",
   "execution_count": 18,
   "metadata": {},
   "outputs": [
    {
     "name": "stdout",
     "output_type": "stream",
     "text": [
      " El volumen de la unidad C no tiene etiqueta.\n",
      " El n£mero de serie del volumen es: 7AEE-A896\n",
      "\n",
      " Directorio de C:\\Users\\alex\\World\n",
      "\n",
      "28/09/2017  22:25    <DIR>          .\n",
      "28/09/2017  22:25    <DIR>          ..\n",
      "16/09/2014  18:12             4.143 .arctic_ocean.jpg\n",
      "16/09/2014  18:07             7.461 .atlantic_ocean.jpg\n",
      "16/09/2014  18:08             6.872 .indian_ocean.jpg\n",
      "16/09/2014  18:06             4.166 .pacific_ocean.jpg\n",
      "16/09/2014  18:12             5.745 .southern_ocean.jpg\n",
      "28/09/2017  22:25    <DIR>          Africa\n",
      "28/09/2017  22:25    <DIR>          Asia\n",
      "28/09/2017  22:25    <DIR>          Australia\n",
      "28/09/2017  22:25    <DIR>          Europe\n",
      "28/09/2017  22:25    <DIR>          North_America\n",
      "28/09/2017  22:25    <DIR>          South_America\n",
      "               5 archivos         28.387 bytes\n",
      "               8 dirs  145.210.519.552 bytes libres\n"
     ]
    }
   ],
   "source": [
    "ls C:\\Users\\alex\\World"
   ]
  },
  {
   "cell_type": "markdown",
   "metadata": {},
   "source": [
    "# Mi turno (pag 51)\n",
    "    1. Utilice la **-l** opción con el **ls** comando sin argumento, para listar el contenido de su directorio de trabajo.\n",
    "\n",
    "# agregar 2 imagenes aqui\n",
    "    2. A continuación, escriba **clear** y presione **Enter.**\n",
    " # agregar imagen de clear\n",
    "     4. Intente revisar su código usando el teclado.\n",
    "# agregar imangen de teclas\n",
    "\n",
    "# Mi turno (pag 55)\n",
    "    1. Pase la **-a** opción con el **ls** comando para el directorio World.\n",
    "# agregar imangen de directorio world\n",
    "    2. ¿Puedes detectar los archivos ocultos? Debe haber un total de 14 artículos en el directorio Mundial , incluyendo los 6 directorios continentales que vimos en una actividad anterior.\n",
    "\n",
    "    si, como se puede observar en la imagen \n",
    "\n",
    "    3. Borre la ventana Terminal.\n",
    " # imagen terminal limpia\n",
    "\n",
    "\n",
    "# Mi turno (pag 61)\n",
    "    1. En su ventana de Terminal abierta, cambie su directorio de trabajo a Europa.\n"
   ]
  },
  {
   "cell_type": "code",
   "execution_count": 38,
   "metadata": {
    "scrolled": true
   },
   "outputs": [
    {
     "name": "stdout",
     "output_type": "stream",
     "text": [
      "C:\\Users\\alex\\World\\Europe\n"
     ]
    }
   ],
   "source": [
    "cd Europe/"
   ]
  },
  {
   "cell_type": "markdown",
   "metadata": {},
   "source": [
    "    2. A continuación, cambie su directorio de trabajo a Francia utilizando una ruta relativa."
   ]
  },
  {
   "cell_type": "code",
   "execution_count": 39,
   "metadata": {},
   "outputs": [
    {
     "name": "stdout",
     "output_type": "stream",
     "text": [
      "C:\\Users\\alex\\World\\Europe\\France\n"
     ]
    }
   ],
   "source": [
    "cd France/"
   ]
  },
  {
   "cell_type": "markdown",
   "metadata": {},
   "source": [
    "    3. Enumere el contenido de su directorio de trabajo. Si ha cambiado con éxito los directorios de trabajo, debería ver los archivos eiffel_tower.jpg y mona_lisa.jpg ."
   ]
  },
  {
   "cell_type": "code",
   "execution_count": 40,
   "metadata": {},
   "outputs": [
    {
     "name": "stdout",
     "output_type": "stream",
     "text": [
      " El volumen de la unidad C no tiene etiqueta.\n",
      " El n£mero de serie del volumen es: 7AEE-A896\n",
      "\n",
      " Directorio de C:\\Users\\alex\\World\\Europe\\France\n",
      "\n",
      "28/09/2017  22:25    <DIR>          .\n",
      "28/09/2017  22:25    <DIR>          ..\n",
      "16/09/2014  17:54             2.171 eiffel_tower.jpg\n",
      "16/09/2014  17:54             3.330 mona_lisa.jpg\n",
      "               2 archivos          5.501 bytes\n",
      "               2 dirs  145.206.534.144 bytes libres\n"
     ]
    }
   ],
   "source": [
    "ls"
   ]
  },
  {
   "cell_type": "code",
   "execution_count": null,
   "metadata": {
    "collapsed": true
   },
   "outputs": [],
   "source": []
  }
 ],
 "metadata": {
  "kernelspec": {
   "display_name": "Python 3",
   "language": "python",
   "name": "python3"
  },
  "language_info": {
   "codemirror_mode": {
    "name": "ipython",
    "version": 3
   },
   "file_extension": ".py",
   "mimetype": "text/x-python",
   "name": "python",
   "nbconvert_exporter": "python",
   "pygments_lexer": "ipython3",
   "version": "3.6.1"
  }
 },
 "nbformat": 4,
 "nbformat_minor": 2
}
