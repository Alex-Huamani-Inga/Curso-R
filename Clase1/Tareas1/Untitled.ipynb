{
 "cells": [
  {
   "cell_type": "code",
   "execution_count": 1,
   "metadata": {},
   "outputs": [
    {
     "ename": "NameError",
     "evalue": "name 'date' is not defined",
     "output_type": "error",
     "traceback": [
      "\u001b[1;31m---------------------------------------------------------------------------\u001b[0m",
      "\u001b[1;31mNameError\u001b[0m                                 Traceback (most recent call last)",
      "\u001b[1;32m<ipython-input-1-a9564ebc3289>\u001b[0m in \u001b[0;36m<module>\u001b[1;34m()\u001b[0m\n\u001b[1;32m----> 1\u001b[1;33m \u001b[0mdate\u001b[0m\u001b[1;33m\u001b[0m\u001b[0m\n\u001b[0m",
      "\u001b[1;31mNameError\u001b[0m: name 'date' is not defined"
     ]
    }
   ],
   "source": [
    "date"
   ]
  },
  {
   "cell_type": "code",
   "execution_count": 2,
   "metadata": {},
   "outputs": [
    {
     "name": "stdout",
     "output_type": "stream",
     "text": [
      " El volumen de la unidad C no tiene etiqueta.\n",
      " El n£mero de serie del volumen es: 7AEE-A896\n",
      "\n",
      " Directorio de C:\\Users\\alex\n",
      "\n",
      "20/09/2017  01:32    <DIR>          .\n",
      "20/09/2017  01:32    <DIR>          ..\n",
      "20/09/2017  00:32    <DIR>          .anaconda\n",
      "19/09/2017  22:14             2.877 .bash_history\n",
      "20/09/2017  01:33    <DIR>          .conda\n",
      "20/09/2017  00:34                43 .condarc\n",
      "30/01/2017  03:49    <DIR>          .eclipse\n",
      "19/09/2017  23:11               122 .gitconfig\n",
      "21/08/2017  17:36    <DIR>          .idlerc\n",
      "20/09/2017  01:28    <DIR>          .ipynb_checkpoints\n",
      "20/09/2017  01:28    <DIR>          .ipython\n",
      "31/12/2016  01:05    <DIR>          .jmc\n",
      "20/09/2017  01:30    <DIR>          .jupyter\n",
      "24/02/2017  18:23    <DIR>          .p2\n",
      "19/09/2017  18:14    <DIR>          .ssh\n",
      "27/06/2017  10:28    <DIR>          Contacts\n",
      "21/08/2017  16:50    <DIR>          Desktop\n",
      "18/09/2017  03:35    <DIR>          Documents\n",
      "19/09/2017  13:24    <DIR>          Downloads\n",
      "27/06/2017  10:28    <DIR>          Favorites\n",
      "27/06/2017  10:28    <DIR>          Links\n",
      "27/06/2017  10:28    <DIR>          Music\n",
      "27/06/2017  10:28    <DIR>          Pictures\n",
      "21/08/2017  16:44                 0 pip\n",
      "16/06/2017  14:29    <DIR>          pseint\n",
      "15/09/2017  11:43    <DIR>          Pythonejemplos\n",
      "15/09/2017  15:17    <DIR>          R\n",
      "27/06/2017  10:28    <DIR>          Saved Games\n",
      "27/06/2017  10:28    <DIR>          Searches\n",
      "12/01/2017  20:31    <DIR>          Tracing\n",
      "20/09/2017  01:32               581 Untitled.ipynb\n",
      "27/06/2017  10:28    <DIR>          Videos\n",
      "               5 archivos          3.623 bytes\n",
      "              27 dirs  147.083.042.816 bytes libres\n"
     ]
    }
   ],
   "source": [
    "ls"
   ]
  },
  {
   "cell_type": "code",
   "execution_count": 3,
   "metadata": {},
   "outputs": [
    {
     "name": "stdout",
     "output_type": "stream",
     "text": [
      "D:\\\n"
     ]
    }
   ],
   "source": [
    "cd d:"
   ]
  },
  {
   "cell_type": "code",
   "execution_count": 4,
   "metadata": {},
   "outputs": [
    {
     "ename": "NameError",
     "evalue": "name 'cal' is not defined",
     "output_type": "error",
     "traceback": [
      "\u001b[1;31m---------------------------------------------------------------------------\u001b[0m",
      "\u001b[1;31mNameError\u001b[0m                                 Traceback (most recent call last)",
      "\u001b[1;32m<ipython-input-4-ab103755520b>\u001b[0m in \u001b[0;36m<module>\u001b[1;34m()\u001b[0m\n\u001b[1;32m----> 1\u001b[1;33m \u001b[0mcal\u001b[0m\u001b[1;33m\u001b[0m\u001b[0m\n\u001b[0m",
      "\u001b[1;31mNameError\u001b[0m: name 'cal' is not defined"
     ]
    }
   ],
   "source": [
    "cal"
   ]
  },
  {
   "cell_type": "code",
   "execution_count": 5,
   "metadata": {},
   "outputs": [
    {
     "ename": "NameError",
     "evalue": "name 'date' is not defined",
     "output_type": "error",
     "traceback": [
      "\u001b[1;31m---------------------------------------------------------------------------\u001b[0m",
      "\u001b[1;31mNameError\u001b[0m                                 Traceback (most recent call last)",
      "\u001b[1;32m<ipython-input-5-a9564ebc3289>\u001b[0m in \u001b[0;36m<module>\u001b[1;34m()\u001b[0m\n\u001b[1;32m----> 1\u001b[1;33m \u001b[0mdate\u001b[0m\u001b[1;33m\u001b[0m\u001b[0m\n\u001b[0m",
      "\u001b[1;31mNameError\u001b[0m: name 'date' is not defined"
     ]
    }
   ],
   "source": [
    "date"
   ]
  },
  {
   "cell_type": "code",
   "execution_count": 6,
   "metadata": {},
   "outputs": [
    {
     "ename": "SyntaxError",
     "evalue": "invalid syntax (<ipython-input-6-34f626406110>, line 1)",
     "output_type": "error",
     "traceback": [
      "\u001b[1;36m  File \u001b[1;32m\"<ipython-input-6-34f626406110>\"\u001b[1;36m, line \u001b[1;32m1\u001b[0m\n\u001b[1;33m    da ----> 1\u001b[0m\n\u001b[1;37m           ^\u001b[0m\n\u001b[1;31mSyntaxError\u001b[0m\u001b[1;31m:\u001b[0m invalid syntax\n"
     ]
    }
   ],
   "source": [
    "da ----> 1"
   ]
  },
  {
   "cell_type": "code",
   "execution_count": 7,
   "metadata": {},
   "outputs": [
    {
     "ename": "SyntaxError",
     "evalue": "invalid syntax (<ipython-input-7-d2f54b4c9033>, line 1)",
     "output_type": "error",
     "traceback": [
      "\u001b[1;36m  File \u001b[1;32m\"<ipython-input-7-d2f54b4c9033>\"\u001b[1;36m, line \u001b[1;32m1\u001b[0m\n\u001b[1;33m    date ----> 1\u001b[0m\n\u001b[1;37m             ^\u001b[0m\n\u001b[1;31mSyntaxError\u001b[0m\u001b[1;31m:\u001b[0m invalid syntax\n"
     ]
    }
   ],
   "source": [
    "date ----> 1"
   ]
  },
  {
   "cell_type": "code",
   "execution_count": 8,
   "metadata": {
    "collapsed": true
   },
   "outputs": [],
   "source": [
    "x=5"
   ]
  },
  {
   "cell_type": "code",
   "execution_count": 9,
   "metadata": {},
   "outputs": [
    {
     "name": "stdout",
     "output_type": "stream",
     "text": [
      "5\n"
     ]
    }
   ],
   "source": [
    "print(x)"
   ]
  },
  {
   "cell_type": "code",
   "execution_count": 13,
   "metadata": {},
   "outputs": [
    {
     "name": "stdout",
     "output_type": "stream",
     "text": [
      "hola\n",
      "hola\n",
      "hola\n",
      "hola\n",
      "hola\n"
     ]
    }
   ],
   "source": [
    "i=(2,3,4,5,6)\n",
    "for x in i:\n",
    "    print (\"hola\")"
   ]
  },
  {
   "cell_type": "code",
   "execution_count": 14,
   "metadata": {},
   "outputs": [
    {
     "name": "stdout",
     "output_type": "stream",
     "text": [
      " El volumen de la unidad D no tiene etiqueta.\n",
      " El n£mero de serie del volumen es: D08F-1B93\n",
      "\n",
      " Directorio de D:\\\n",
      "\n",
      "27/12/2016  16:05    <DIR>          .metadata\n",
      "28/12/2016  13:16    <DIR>          .recommenders\n",
      "02/09/2017  11:09        84.023.976 39_62.mp4\n",
      "02/09/2017  11:24        84.083.176 39_63.mp4\n",
      "02/09/2017  11:26        84.204.295 39_64.mp4\n",
      "28/12/2016  12:52    <DIR>          ale tutoriales\n",
      "02/07/2017  12:43    <DIR>          ALEX-PC\n",
      "31/12/2016  01:04    <DIR>          aprendiendo\n",
      "02/02/2017  17:59                95 awesomium.log\n",
      "12/06/2016  21:19       849.415.760 Big.Hero.6.2014.720p.BluRay.x264.YIFY.mp4\n",
      "30/01/2017  10:37    <DIR>          BlackCipher\n",
      "30/01/2017  10:36        13.325.621 BlackCipher.zip\n",
      "13/03/2017  11:29            14.332 Boleta_de_Matricula_20171_20121383B.pdf\n",
      "02/12/2016  14:21           774.467 coloracion.pdf\n",
      "02/12/2016  15:17           270.373 CONGRUENCIAS(1).pdf\n",
      "26/11/2016  19:57           270.373 CONGRUENCIAS.pdf\n",
      "09/07/2017  18:57    <DIR>          CUBOS\n",
      "12/12/2016  10:11           701.933 CV Paola Ivonne Gamarra Berrios.pdf\n",
      "09/06/2017  20:40           242.983 Derecho a la negociaci¢n colectiva y participacion en las utilidades.docx\n",
      "09/04/2017  11:47         1.657.769 DOC-20170409-WA0000.pdf\n",
      "01/04/2017  11:17            10.382 download_file (2).pdf\n",
      "02/04/2017  18:55           266.340 download_file (4).pdf\n",
      "02/04/2017  18:56           266.818 download_file (6).pdf\n",
      "12/01/2017  21:35         7.636.339 DSC00295.JPG\n",
      "12/01/2017  21:35         7.739.835 DSC00296.JPG\n",
      "12/01/2017  21:35         6.932.887 DSC00297.JPG\n",
      "12/01/2017  21:35         6.925.459 DSC00298.JPG\n",
      "05/09/2017  08:47    <DIR>          ERIKA\n",
      "08/05/2017  17:55             2.843 erikaperika.txt\n",
      "19/09/2017  22:52    <DIR>          Estadistica y probabilidades\n",
      "04/02/2017  22:33        55.444.479 Geometry Dash v1.0 by Antman7891.rar\n",
      "02/12/2016  12:25           529.916 Grafos-demostraciones.pdf\n",
      "20/04/2017  23:49            19.290 HOMINIZACION.docx\n",
      "15/05/2017  17:51             1.712 insersionespejo.txt\n",
      "11/03/2017  10:06         1.013.054 introducc-economia-rrll-y-rrhh-diapositivas-tema-4-ocw-1p.pdf\n",
      "11/03/2017  11:09        46.115.420 introduccic3b3n-al-c3a1lgebra-lineal-3ra-edicic3b3n-howard-anton1.pdf\n",
      "09/04/2017  14:44        10.944.130 La_Mineria_Responsable_y_sus_Aportes_al_Desarrollo_del_Peru_Por_Roque_Benavides_Ganoza.pdf\n",
      "21/03/2017  00:09    <DIR>          latex\n",
      "11/03/2017  10:11         6.889.208 LDE-2010-01.pdf\n",
      "04/04/2017  20:48         7.389.683 Macroeconomia.pdf\n",
      "19/09/2017  17:28    <DIR>          Marcia\n",
      "28/03/2017  22:56         9.504.942 Matem_tica_para_el_An_lisis_Econ_mico_SYDSAETER_y_HAMMOND.pdf\n",
      "15/01/2017  14:30               528 MediaID.bin\n",
      "11/03/2017  10:20         1.424.892 MICRECONOMIA Mochon & Beker.pdf\n",
      "01/10/2015  20:04            33.899 mikasa.zip\n",
      "09/04/2017  14:45         1.738.965 mineria-y-control-del-medio-ambiente-peru.pdf\n",
      "19/04/2010  15:12         1.070.901 mini-KMS_Activator_v1.052.exe\n",
      "20/12/2016  12:47    <DIR>          NARRADOR DE CUENTOS\n",
      "25/05/2017  22:43    <DIR>          pdfs latex y mas\n",
      "05/03/2017  19:09         4.925.243 PPR_Detallado.pdf\n",
      "27/12/2016  16:05    <DIR>          RemoteSystemsTempFiles\n",
      "10/12/2016  23:08       336.741.144 Setup.exe.exe\n",
      "13/08/2017  21:36    <DIR>          snes9x-1.51-win32\n",
      "04/08/2017  16:24           787.296 snes9x-1.51-win32.zip\n",
      "20/12/2016  12:53    <DIR>          Temporada 2\n",
      "20/12/2016  12:46    <DIR>          Temporada 3\n",
      "12/12/2016  18:24     1.109.803.008 ubuntu-14.04.5-desktop-i386.iso\n",
      "26/12/2016  15:41    <DIR>          usb\n",
      "02/04/2014  10:43    <DIR>          Windows Loader\n",
      "07/01/2017  11:20    <DIR>          WindowsImageBackup\n",
      "12/12/2016  16:45         4.070.663 WL222.rar\n",
      "              41 archivos  2.747.214.429 bytes\n",
      "              20 dirs  345.954.193.408 bytes libres\n"
     ]
    }
   ],
   "source": [
    "ls"
   ]
  },
  {
   "cell_type": "code",
   "execution_count": 15,
   "metadata": {},
   "outputs": [
    {
     "name": "stdout",
     "output_type": "stream",
     "text": [
      "D:\\\n"
     ]
    }
   ],
   "source": [
    "cd d:"
   ]
  },
  {
   "cell_type": "code",
   "execution_count": 16,
   "metadata": {},
   "outputs": [
    {
     "name": "stdout",
     "output_type": "stream",
     "text": [
      " El volumen de la unidad D no tiene etiqueta.\n",
      " El n£mero de serie del volumen es: D08F-1B93\n",
      "\n",
      " Directorio de D:\\\n",
      "\n",
      "27/12/2016  16:05    <DIR>          .metadata\n",
      "28/12/2016  13:16    <DIR>          .recommenders\n",
      "02/09/2017  11:09        84.023.976 39_62.mp4\n",
      "02/09/2017  11:24        84.083.176 39_63.mp4\n",
      "02/09/2017  11:26        84.204.295 39_64.mp4\n",
      "28/12/2016  12:52    <DIR>          ale tutoriales\n",
      "02/07/2017  12:43    <DIR>          ALEX-PC\n",
      "31/12/2016  01:04    <DIR>          aprendiendo\n",
      "02/02/2017  17:59                95 awesomium.log\n",
      "12/06/2016  21:19       849.415.760 Big.Hero.6.2014.720p.BluRay.x264.YIFY.mp4\n",
      "30/01/2017  10:37    <DIR>          BlackCipher\n",
      "30/01/2017  10:36        13.325.621 BlackCipher.zip\n",
      "13/03/2017  11:29            14.332 Boleta_de_Matricula_20171_20121383B.pdf\n",
      "02/12/2016  14:21           774.467 coloracion.pdf\n",
      "02/12/2016  15:17           270.373 CONGRUENCIAS(1).pdf\n",
      "26/11/2016  19:57           270.373 CONGRUENCIAS.pdf\n",
      "09/07/2017  18:57    <DIR>          CUBOS\n",
      "12/12/2016  10:11           701.933 CV Paola Ivonne Gamarra Berrios.pdf\n",
      "09/06/2017  20:40           242.983 Derecho a la negociaci¢n colectiva y participacion en las utilidades.docx\n",
      "09/04/2017  11:47         1.657.769 DOC-20170409-WA0000.pdf\n",
      "01/04/2017  11:17            10.382 download_file (2).pdf\n",
      "02/04/2017  18:55           266.340 download_file (4).pdf\n",
      "02/04/2017  18:56           266.818 download_file (6).pdf\n",
      "12/01/2017  21:35         7.636.339 DSC00295.JPG\n",
      "12/01/2017  21:35         7.739.835 DSC00296.JPG\n",
      "12/01/2017  21:35         6.932.887 DSC00297.JPG\n",
      "12/01/2017  21:35         6.925.459 DSC00298.JPG\n",
      "05/09/2017  08:47    <DIR>          ERIKA\n",
      "08/05/2017  17:55             2.843 erikaperika.txt\n",
      "19/09/2017  22:52    <DIR>          Estadistica y probabilidades\n",
      "04/02/2017  22:33        55.444.479 Geometry Dash v1.0 by Antman7891.rar\n",
      "02/12/2016  12:25           529.916 Grafos-demostraciones.pdf\n",
      "20/04/2017  23:49            19.290 HOMINIZACION.docx\n",
      "15/05/2017  17:51             1.712 insersionespejo.txt\n",
      "11/03/2017  10:06         1.013.054 introducc-economia-rrll-y-rrhh-diapositivas-tema-4-ocw-1p.pdf\n",
      "11/03/2017  11:09        46.115.420 introduccic3b3n-al-c3a1lgebra-lineal-3ra-edicic3b3n-howard-anton1.pdf\n",
      "09/04/2017  14:44        10.944.130 La_Mineria_Responsable_y_sus_Aportes_al_Desarrollo_del_Peru_Por_Roque_Benavides_Ganoza.pdf\n",
      "21/03/2017  00:09    <DIR>          latex\n",
      "11/03/2017  10:11         6.889.208 LDE-2010-01.pdf\n",
      "04/04/2017  20:48         7.389.683 Macroeconomia.pdf\n",
      "19/09/2017  17:28    <DIR>          Marcia\n",
      "28/03/2017  22:56         9.504.942 Matem_tica_para_el_An_lisis_Econ_mico_SYDSAETER_y_HAMMOND.pdf\n",
      "15/01/2017  14:30               528 MediaID.bin\n",
      "11/03/2017  10:20         1.424.892 MICRECONOMIA Mochon & Beker.pdf\n",
      "01/10/2015  20:04            33.899 mikasa.zip\n",
      "09/04/2017  14:45         1.738.965 mineria-y-control-del-medio-ambiente-peru.pdf\n",
      "19/04/2010  15:12         1.070.901 mini-KMS_Activator_v1.052.exe\n",
      "20/12/2016  12:47    <DIR>          NARRADOR DE CUENTOS\n",
      "25/05/2017  22:43    <DIR>          pdfs latex y mas\n",
      "05/03/2017  19:09         4.925.243 PPR_Detallado.pdf\n",
      "27/12/2016  16:05    <DIR>          RemoteSystemsTempFiles\n",
      "10/12/2016  23:08       336.741.144 Setup.exe.exe\n",
      "13/08/2017  21:36    <DIR>          snes9x-1.51-win32\n",
      "04/08/2017  16:24           787.296 snes9x-1.51-win32.zip\n",
      "20/12/2016  12:53    <DIR>          Temporada 2\n",
      "20/12/2016  12:46    <DIR>          Temporada 3\n",
      "12/12/2016  18:24     1.109.803.008 ubuntu-14.04.5-desktop-i386.iso\n",
      "26/12/2016  15:41    <DIR>          usb\n",
      "02/04/2014  10:43    <DIR>          Windows Loader\n",
      "07/01/2017  11:20    <DIR>          WindowsImageBackup\n",
      "12/12/2016  16:45         4.070.663 WL222.rar\n",
      "              41 archivos  2.747.214.429 bytes\n",
      "              20 dirs  345.954.193.408 bytes libres\n"
     ]
    }
   ],
   "source": [
    "ls"
   ]
  },
  {
   "cell_type": "code",
   "execution_count": 17,
   "metadata": {},
   "outputs": [
    {
     "name": "stdout",
     "output_type": "stream",
     "text": [
      "D:\\Estadistica y probabilidades\n"
     ]
    }
   ],
   "source": [
    "cd \"Estadistica y probabilidades\""
   ]
  },
  {
   "cell_type": "code",
   "execution_count": 18,
   "metadata": {},
   "outputs": [
    {
     "name": "stdout",
     "output_type": "stream",
     "text": [
      " El volumen de la unidad D no tiene etiqueta.\n",
      " El n£mero de serie del volumen es: D08F-1B93\n",
      "\n",
      " Directorio de D:\\Estadistica y probabilidades\n",
      "\n",
      "19/09/2017  22:52    <DIR>          .\n",
      "19/09/2017  22:52    <DIR>          ..\n",
      "19/09/2017  22:52    <DIR>          Curso_R\n",
      "19/09/2017  16:39    <DIR>          Curso-R\n",
      "               0 archivos              0 bytes\n",
      "               4 dirs  345.954.193.408 bytes libres\n"
     ]
    }
   ],
   "source": [
    "ls"
   ]
  },
  {
   "cell_type": "code",
   "execution_count": 19,
   "metadata": {},
   "outputs": [
    {
     "name": "stdout",
     "output_type": "stream",
     "text": [
      "D:\\Estadistica y probabilidades\\Curso-R\n"
     ]
    }
   ],
   "source": [
    "cd Curso-R/"
   ]
  },
  {
   "cell_type": "markdown",
   "metadata": {},
   "source": [
    "# hola"
   ]
  },
  {
   "cell_type": "code",
   "execution_count": null,
   "metadata": {
    "collapsed": true
   },
   "outputs": [],
   "source": []
  }
 ],
 "metadata": {
  "kernelspec": {
   "display_name": "Python 3",
   "language": "python",
   "name": "python3"
  },
  "language_info": {
   "codemirror_mode": {
    "name": "ipython",
    "version": 3
   },
   "file_extension": ".py",
   "mimetype": "text/x-python",
   "name": "python",
   "nbconvert_exporter": "python",
   "pygments_lexer": "ipython3",
   "version": "3.6.1"
  }
 },
 "nbformat": 4,
 "nbformat_minor": 2
}
