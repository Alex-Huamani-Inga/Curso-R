{
 "cells": [
  {
   "cell_type": "markdown",
   "metadata": {},
   "source": [
    "# Reporte\n",
    "## pequeño resumen sobre \"The Data Scientist - 60 Second Data Science.\"\n",
    "\n",
    "    un cientifico de datos es aquella persona que utiliza los datos para resolver problemas , descubrir las tramas y obtener informacion.\n",
    "    A menudo trabajan  en empresas organizaciones que trabajan con grandes conjuntos de datos.\n",
    "    un cientifico puede aprovechar el conocimiento en estadistica, base de datos, programacion de computadora, modelacion matematica, aprendizaje automatico para lograr sus objetivos. \n",
    "    un dia en la vida de un cientifico de datos primero el cientifico de datos tiene que entender las cuestiones de negocios o de organizacion, a continuacion busca los datos que pueden necesitar para establecer un expererimento para adquirir los datos o un experimento para adquirir los datos o pueden ya existir en algun lugar, si se requiere un experemiento es muy importante anotar la hipotesis antes de proceder, una vez que los datos estan reunidos se comprueba y eliminan entonces las herramientas adecuadas para el modelaje se eligen por ejemplo: R, python o otro paquete de software de datos\n",
    "    Los datos y resultados a continuacion se analizan usando las herramientas adecuadas, notando asi las ideas y tendencias principales y comprobar su hipotesis estadistica, comprobar los resustados son robustos y validos los resultaados de aprendizajes y las ideas se comunican a los interesados, por ejemplo si una empresa ferroviaria busca un camino efeciente el cientifico de datos encontrar la solucion.\n",
    "    el advenimiento de la era de los datos es ahora y puede dar una mejor idea y hacer una mejor decision basadas en los datos "
   ]
  },
  {
   "cell_type": "markdown",
   "metadata": {},
   "source": [
    "# Reporte sobre \"Applications Of R Programming In R-eal World .\"\n",
    "    "
   ]
  },
  {
   "cell_type": "code",
   "execution_count": null,
   "metadata": {
    "collapsed": true
   },
   "outputs": [],
   "source": []
  }
 ],
 "metadata": {
  "kernelspec": {
   "display_name": "R",
   "language": "R",
   "name": "ir"
  },
  "language_info": {
   "codemirror_mode": "r",
   "file_extension": ".r",
   "mimetype": "text/x-r-source",
   "name": "R",
   "pygments_lexer": "r",
   "version": "3.4.2"
  }
 },
 "nbformat": 4,
 "nbformat_minor": 2
}
